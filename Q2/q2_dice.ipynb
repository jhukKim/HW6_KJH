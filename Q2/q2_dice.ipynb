{
 "cells": [
  {
   "cell_type": "code",
   "execution_count": 2,
   "id": "af57ad6d",
   "metadata": {},
   "outputs": [],
   "source": [
    "import random\n",
    "import numpy\n",
    "import csv\n",
    "\n",
    "def main():\n",
    "    dice_arr=numpy.array([\n",
    "        [0,0,0,0,0,0],\n",
    "        [0,0,0,0,0,0],\n",
    "        [0,0,0,0,0,0],\n",
    "        [0,0,0,0,0,0]\n",
    "    ])\n",
    "\n",
    "    for i in range (4):\n",
    "        for j in range(10**(i+2)):\n",
    "            num=random.randrange(1,7)\n",
    "            dice_arr[i][num-1]+=1\n",
    "\n",
    "    with open('q2.csv', 'w', newline='') as file:\n",
    "        mywriter = csv.writer(file, delimiter=',')\n",
    "        mywriter.writerows(dice_arr)\n",
    "\n",
    "if __name__=='__main__':\n",
    "    main()"
   ]
  },
  {
   "cell_type": "code",
   "execution_count": null,
   "id": "af33ba17",
   "metadata": {},
   "outputs": [],
   "source": []
  }
 ],
 "metadata": {
  "kernelspec": {
   "display_name": "Python 3 (ipykernel)",
   "language": "python",
   "name": "python3"
  },
  "language_info": {
   "codemirror_mode": {
    "name": "ipython",
    "version": 3
   },
   "file_extension": ".py",
   "mimetype": "text/x-python",
   "name": "python",
   "nbconvert_exporter": "python",
   "pygments_lexer": "ipython3",
   "version": "3.9.13"
  }
 },
 "nbformat": 4,
 "nbformat_minor": 5
}
